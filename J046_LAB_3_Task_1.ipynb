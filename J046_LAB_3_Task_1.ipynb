{
 "cells": [
  {
   "cell_type": "code",
   "execution_count": 2,
   "id": "067864dc",
   "metadata": {},
   "outputs": [
    {
     "name": "stdout",
     "output_type": "stream",
     "text": [
      "Requirement already satisfied: contractions in ./anacondanew/anaconda3/lib/python3.11/site-packages (0.1.73)\n",
      "Requirement already satisfied: textsearch>=0.0.21 in ./anacondanew/anaconda3/lib/python3.11/site-packages (from contractions) (0.0.24)\n",
      "Requirement already satisfied: anyascii in ./anacondanew/anaconda3/lib/python3.11/site-packages (from textsearch>=0.0.21->contractions) (0.3.2)\n",
      "Requirement already satisfied: pyahocorasick in ./anacondanew/anaconda3/lib/python3.11/site-packages (from textsearch>=0.0.21->contractions) (2.1.0)\n",
      "Note: you may need to restart the kernel to use updated packages.\n"
     ]
    }
   ],
   "source": [
    "pip install contractions\n"
   ]
  },
  {
   "cell_type": "code",
   "execution_count": 11,
   "id": "d1b312af",
   "metadata": {},
   "outputs": [
    {
     "name": "stderr",
     "output_type": "stream",
     "text": [
      "[nltk_data] Downloading package stopwords to\n",
      "[nltk_data]     /Users/shreeshnadgouda/nltk_data...\n",
      "[nltk_data]   Package stopwords is already up-to-date!\n"
     ]
    }
   ],
   "source": [
    "import pandas as pd\n",
    "import re\n",
    "import contractions  # Ensure this is imported\n",
    "from nltk.corpus import stopwords\n",
    "from nltk.stem import WordNetLemmatizer\n",
    "import re\n",
    "import nltk\n",
    "import tensorflow as tf\n",
    "from tensorflow.keras.preprocessing.text import Tokenizer\n",
    "from tensorflow.keras.preprocessing.sequence import pad_sequences\n",
    "from nltk.corpus import stopwords\n",
    "from nltk.stem import WordNetLemmatizer\n",
    "\n",
    "# Load dataset\n",
    "data = pd.read_csv('IMDB Dataset.csv')\n",
    "\n",
    "# Clean text: remove HTML tags, special characters, and stopwords\n",
    "def clean_text(txt):\n",
    "    TAG_RE = re.compile(r'<[^>]+>') \n",
    "    txt = TAG_RE.sub('', txt.lower())\n",
    "    txt = re.sub(r'[^\\w\\s]', ' ', txt)\n",
    "    txt = re.sub(r'\\d+', '', txt)\n",
    "    txt = re.sub(r'\\s+', ' ', txt).strip()\n",
    "    txt = contractions.fix(txt)\n",
    "    return txt\n",
    "\n",
    "nltk.download('stopwords')\n",
    "STOPWORDS = set(stopwords.words('english'))\n",
    "lemmatizer = WordNetLemmatizer()\n",
    "\n",
    "data['Clean Review'] = data['review'].apply(clean_text)\n",
    "\n",
    "# Encode the sentiment column\n",
    "sentiment = {'positive': 1, 'negative': 0}\n",
    "data['sentiment'] = data['sentiment'].map(sentiment)\n",
    "\n",
    "# Tokenize and pad sequences\n",
    "vocab_size = 10000\n",
    "embedding_dim = 100\n",
    "max_length = 100\n",
    "trunc_type = 'post'\n",
    "oov_tok = \"<OOV>\"\n",
    "\n",
    "tokenizer = Tokenizer(num_words=vocab_size, oov_token=oov_tok)\n",
    "tokenizer.fit_on_texts(data['Clean Review'])\n",
    "sequences = tokenizer.texts_to_sequences(data['Clean Review'])\n",
    "padded = pad_sequences(sequences, maxlen=max_length, truncating=trunc_type)\n",
    "\n",
    "# Split into train and test sets\n",
    "from sklearn.model_selection import train_test_split\n",
    "x_train, x_test, y_train, y_test = train_test_split(padded, data['sentiment'], test_size=0.2, random_state=42)\n",
    "\n"
   ]
  },
  {
   "cell_type": "code",
   "execution_count": 6,
   "id": "50a29517",
   "metadata": {},
   "outputs": [],
   "source": [
    "# Load GloVe embeddings\n",
    "embedding_index = {}\n",
    "glove_file_path = '/Users/shreeshnadgouda/Downloads/glove.6B.100d.txt'\n",
    "with open(glove_file_path, encoding=\"utf8\") as f:\n",
    "    for line in f:\n",
    "        values = line.split()\n",
    "        word = values[0]\n",
    "        coefs = np.asarray(values[1:], dtype='float32')\n",
    "        embedding_index[word] = coefs\n",
    "\n",
    "# Create an embedding matrix\n",
    "embedding_matrix = np.zeros((vocab_size, embedding_dim))\n",
    "word_index = tokenizer.word_index\n",
    "for word, i in word_index.items():\n",
    "    if i < vocab_size:\n",
    "        embedding_vector = embedding_index.get(word)\n",
    "        if embedding_vector is not None:\n",
    "            embedding_matrix[i] = embedding_vector\n"
   ]
  },
  {
   "cell_type": "code",
   "execution_count": 7,
   "id": "2dd7684d",
   "metadata": {},
   "outputs": [
    {
     "name": "stderr",
     "output_type": "stream",
     "text": [
      "/Users/shreeshnadgouda/anacondanew/anaconda3/lib/python3.11/site-packages/keras/src/layers/core/embedding.py:90: UserWarning: Argument `input_length` is deprecated. Just remove it.\n",
      "  warnings.warn(\n"
     ]
    }
   ],
   "source": [
    "def build_model_RNN(vocab_size, embedding_dim, max_length, embedding_matrix):\n",
    "    model = tf.keras.Sequential([\n",
    "        tf.keras.layers.Embedding(vocab_size, embedding_dim, input_length=max_length, weights=[embedding_matrix], trainable=False),\n",
    "        tf.keras.layers.SimpleRNN(128, return_sequences=False),\n",
    "        tf.keras.layers.Dense(128, activation='relu'),\n",
    "        tf.keras.layers.Dense(64, activation='relu'),\n",
    "        tf.keras.layers.Dense(1, activation='sigmoid')\n",
    "    ])\n",
    "    model.compile(loss='binary_crossentropy', optimizer='adam', metrics=['accuracy'])\n",
    "    return model\n",
    "\n",
    "rnn_model = build_model_RNN(vocab_size, embedding_dim, max_length, embedding_matrix)\n"
   ]
  },
  {
   "cell_type": "code",
   "execution_count": 8,
   "id": "ad1ff0e3",
   "metadata": {},
   "outputs": [],
   "source": [
    "def build_model_LSTM(vocab_size, embedding_dim, max_length, embedding_matrix):\n",
    "    model = tf.keras.Sequential([\n",
    "        tf.keras.layers.Embedding(vocab_size, embedding_dim, input_length=max_length, weights=[embedding_matrix], trainable=False),\n",
    "        tf.keras.layers.LSTM(128, return_sequences=False),\n",
    "        tf.keras.layers.Dense(128, activation='relu'),\n",
    "        tf.keras.layers.Dense(64, activation='relu'),\n",
    "        tf.keras.layers.Dense(1, activation='sigmoid')\n",
    "    ])\n",
    "    model.compile(loss='binary_crossentropy', optimizer='adam', metrics=['accuracy'])\n",
    "    return model\n",
    "\n",
    "lstm_model = build_model_LSTM(vocab_size, embedding_dim, max_length, embedding_matrix)\n"
   ]
  },
  {
   "cell_type": "code",
   "execution_count": 11,
   "id": "a174a3f7",
   "metadata": {},
   "outputs": [
    {
     "name": "stdout",
     "output_type": "stream",
     "text": [
      "Epoch 1/5\n",
      "\u001b[1m1250/1250\u001b[0m \u001b[32m━━━━━━━━━━━━━━━━━━━━\u001b[0m\u001b[37m\u001b[0m \u001b[1m14s\u001b[0m 11ms/step - accuracy: 0.5324 - loss: 0.6887 - val_accuracy: 0.5756 - val_loss: 0.6855\n",
      "Epoch 2/5\n",
      "\u001b[1m1250/1250\u001b[0m \u001b[32m━━━━━━━━━━━━━━━━━━━━\u001b[0m\u001b[37m\u001b[0m \u001b[1m14s\u001b[0m 11ms/step - accuracy: 0.5303 - loss: 0.6885 - val_accuracy: 0.5236 - val_loss: 0.6915\n",
      "Epoch 3/5\n",
      "\u001b[1m1250/1250\u001b[0m \u001b[32m━━━━━━━━━━━━━━━━━━━━\u001b[0m\u001b[37m\u001b[0m \u001b[1m14s\u001b[0m 11ms/step - accuracy: 0.5243 - loss: 0.6900 - val_accuracy: 0.5605 - val_loss: 0.6859\n",
      "Epoch 4/5\n",
      "\u001b[1m1250/1250\u001b[0m \u001b[32m━━━━━━━━━━━━━━━━━━━━\u001b[0m\u001b[37m\u001b[0m \u001b[1m14s\u001b[0m 11ms/step - accuracy: 0.5530 - loss: 0.6846 - val_accuracy: 0.5673 - val_loss: 0.6800\n",
      "Epoch 5/5\n",
      "\u001b[1m1250/1250\u001b[0m \u001b[32m━━━━━━━━━━━━━━━━━━━━\u001b[0m\u001b[37m\u001b[0m \u001b[1m14s\u001b[0m 11ms/step - accuracy: 0.5736 - loss: 0.6791 - val_accuracy: 0.6171 - val_loss: 0.6586\n"
     ]
    },
    {
     "data": {
      "image/png": "[encoded data removed]",
      "text/plain": [
       "<Figure size 640x480 with 1 Axes>"
      ]
     },
     "metadata": {},
     "output_type": "display_data"
    },
    {
     "name": "stdout",
     "output_type": "stream",
     "text": [
      "\u001b[1m313/313\u001b[0m \u001b[32m━━━━━━━━━━━━━━━━━━━━\u001b[0m\u001b[37m\u001b[0m \u001b[1m1s\u001b[0m 4ms/step - accuracy: 0.6178 - loss: 0.6572\n",
      "Test Accuracy: 0.6171\n",
      "Epoch 1/5\n",
      "\u001b[1m1250/1250\u001b[0m \u001b[32m━━━━━━━━━━━━━━━━━━━━\u001b[0m\u001b[37m\u001b[0m \u001b[1m47s\u001b[0m 37ms/step - accuracy: 0.6537 - loss: 0.6121 - val_accuracy: 0.7920 - val_loss: 0.4434\n",
      "Epoch 2/5\n",
      "\u001b[1m1250/1250\u001b[0m \u001b[32m━━━━━━━━━━━━━━━━━━━━\u001b[0m\u001b[37m\u001b[0m \u001b[1m45s\u001b[0m 36ms/step - accuracy: 0.7971 - loss: 0.4302 - val_accuracy: 0.8179 - val_loss: 0.4094\n",
      "Epoch 3/5\n",
      "\u001b[1m1250/1250\u001b[0m \u001b[32m━━━━━━━━━━━━━━━━━━━━\u001b[0m\u001b[37m\u001b[0m \u001b[1m46s\u001b[0m 36ms/step - accuracy: 0.8203 - loss: 0.3927 - val_accuracy: 0.8239 - val_loss: 0.3952\n",
      "Epoch 4/5\n",
      "\u001b[1m1250/1250\u001b[0m \u001b[32m━━━━━━━━━━━━━━━━━━━━\u001b[0m\u001b[37m\u001b[0m \u001b[1m46s\u001b[0m 37ms/step - accuracy: 0.8337 - loss: 0.3639 - val_accuracy: 0.8257 - val_loss: 0.3871\n",
      "Epoch 5/5\n",
      "\u001b[1m1250/1250\u001b[0m \u001b[32m━━━━━━━━━━━━━━━━━━━━\u001b[0m\u001b[37m\u001b[0m \u001b[1m46s\u001b[0m 37ms/step - accuracy: 0.8527 - loss: 0.3300 - val_accuracy: 0.8273 - val_loss: 0.3828\n"
     ]
    },
    {
     "data": {
      "image/png": "[encoded data removed]",
      "text/plain": [
       "<Figure size 640x480 with 1 Axes>"
      ]
     },
     "metadata": {},
     "output_type": "display_data"
    },
    {
     "name": "stdout",
     "output_type": "stream",
     "text": [
      "\u001b[1m313/313\u001b[0m \u001b[32m━━━━━━━━━━━━━━━━━━━━\u001b[0m\u001b[37m\u001b[0m \u001b[1m5s\u001b[0m 15ms/step - accuracy: 0.8260 - loss: 0.3833\n",
      "Test Accuracy: 0.8273\n"
     ]
    },
    {
     "data": {
      "text/plain": [
       "<keras.src.callbacks.history.History at 0x2dfd0bc50>"
      ]
     },
     "execution_count": 11,
     "metadata": {},
     "output_type": "execute_result"
    }
   ],
   "source": [
    "import matplotlib.pyplot as plt\n",
    "def train_evaluate(model, x_train, y_train, x_test, y_test, num_epochs=5):\n",
    "    history = model.fit(x_train, y_train, epochs=num_epochs, validation_data=(x_test, y_test))\n",
    "    \n",
    "    # Plot accuracy\n",
    "    plt.plot(history.history['accuracy'])\n",
    "    plt.plot(history.history['val_accuracy'])\n",
    "    plt.legend(['Train Accuracy', 'Val Accuracy'])\n",
    "    plt.show()\n",
    "\n",
    "    # Evaluation\n",
    "    loss, accuracy = model.evaluate(x_test, y_test)\n",
    "    print(f'Test Accuracy: {accuracy:.4f}')\n",
    "    return history\n",
    "\n",
    "train_evaluate(rnn_model, x_train, y_train, x_test, y_test)\n",
    "train_evaluate(lstm_model, x_train, y_train, x_test, y_test)\n"
   ]
  },
  {
   "cell_type": "code",
   "execution_count": 12,
   "id": "126c8ade",
   "metadata": {},
   "outputs": [
    {
     "name": "stderr",
     "output_type": "stream",
     "text": [
      "[nltk_data] Downloading package stopwords to\n",
      "[nltk_data]     /Users/shreeshnadgouda/nltk_data...\n",
      "[nltk_data]   Package stopwords is already up-to-date!\n"
     ]
    }
   ],
   "source": [
    "import pandas as pd\n",
    "from sklearn.model_selection import train_test_split\n",
    "import nltk\n",
    "from nltk.corpus import stopwords\n",
    "import re\n",
    "\n",
    "# Load the dataset\n",
    "df = pd.read_csv('IMDB Dataset.csv')\n",
    "\n",
    "# Split the data into features (X) and labels (y)\n",
    "X = df['review'].values\n",
    "y = df['sentiment'].values\n",
    "\n",
    "# Map the sentiment labels to binary values\n",
    "y = [1 if label == 'positive' else 0 for label in y]\n",
    "\n",
    "# Train/test split\n",
    "x_train, x_test, y_train, y_test = train_test_split(X, y, test_size=0.2, stratify=y, random_state=42)\n",
    "\n",
    "# Function to preprocess text\n",
    "def preprocess_string(s):\n",
    "    s = re.sub(r\"[^\\w\\s]\", '', s)\n",
    "    s = re.sub(r\"\\s+\", ' ', s)\n",
    "    s = re.sub(r\"\\d\", '', s)\n",
    "    return s.lower().strip()\n",
    "\n",
    "# Tokenize and preprocess the data\n",
    "nltk.download('stopwords')\n",
    "stop_words = set(stopwords.words('english'))\n",
    "\n",
    "def tockenize(x_train, y_train, x_val, y_val):\n",
    "    word_list = []\n",
    "    for sent in x_train:\n",
    "        for word in sent.lower().split():\n",
    "            word = preprocess_string(word)\n",
    "            if word not in stop_words and word != '':\n",
    "                word_list.append(word)\n",
    "  \n",
    "    # Building the vocabulary of the most common words\n",
    "    from collections import Counter\n",
    "    corpus = Counter(word_list)\n",
    "    corpus_ = sorted(corpus, key=corpus.get, reverse=True)[:1000]\n",
    "    onehot_dict = {w: i+1 for i, w in enumerate(corpus_)}\n",
    "    \n",
    "    # Convert training and validation sentences to one-hot encoded sequences\n",
    "    def encode_sentences(sentences):\n",
    "        return [[onehot_dict.get(preprocess_string(word), 0) for word in sent.lower().split()] for sent in sentences]\n",
    "    \n",
    "    final_list_train = encode_sentences(x_train)\n",
    "    final_list_test = encode_sentences(x_val)\n",
    "    \n",
    "    return final_list_train, y_train, final_list_test, y_val, onehot_dict\n",
    "\n",
    "# Apply tokenization and encoding\n",
    "x_train, y_train, x_test, y_test, vocab = tockenize(x_train, y_train, x_test, y_test)\n"
   ]
  },
  {
   "cell_type": "code",
   "execution_count": 13,
   "id": "4a4516e0",
   "metadata": {},
   "outputs": [],
   "source": [
    "import numpy as np\n",
    "\n",
    "def padding_(sentences, seq_len):\n",
    "    features = np.zeros((len(sentences), seq_len), dtype=int)\n",
    "    for i, review in enumerate(sentences):\n",
    "        if len(review) != 0:\n",
    "            features[i, -len(review):] = np.array(review)[:seq_len]\n",
    "    return features\n",
    "\n",
    "# Pad sequences for RNN/LSTM input\n",
    "x_train_pad = padding_(x_train, 500)\n",
    "x_test_pad = padding_(x_test, 500)\n",
    "\n",
    "# Convert to NumPy arrays\n",
    "x_train_pad = np.array(x_train_pad)\n",
    "x_test_pad = np.array(x_test_pad)\n",
    "y_train = np.array(y_train)\n",
    "y_test = np.array(y_test)\n"
   ]
  },
  {
   "cell_type": "code",
   "execution_count": 15,
   "id": "926eb57b",
   "metadata": {},
   "outputs": [
    {
     "name": "stdout",
     "output_type": "stream",
     "text": [
      "Using device: cpu\n",
      "Epoch 1/5, Train Loss: 0.702, Train Accuracy: 0.502, Val Loss: 0.693, Val Accuracy: 0.500\n",
      "Epoch 2/5, Train Loss: 0.698, Train Accuracy: 0.498, Val Loss: 0.695, Val Accuracy: 0.500\n",
      "Epoch 3/5, Train Loss: 0.699, Train Accuracy: 0.501, Val Loss: 0.695, Val Accuracy: 0.500\n",
      "Epoch 4/5, Train Loss: 0.700, Train Accuracy: 0.499, Val Loss: 0.693, Val Accuracy: 0.500\n",
      "Epoch 5/5, Train Loss: 0.699, Train Accuracy: 0.496, Val Loss: 0.694, Val Accuracy: 0.500\n"
     ]
    },
    {
     "ename": "ValueError",
     "evalue": "too many values to unpack (expected 2)",
     "output_type": "error",
     "traceback": [
      "\u001b[0;31m---------------------------------------------------------------------------\u001b[0m",
      "\u001b[0;31mValueError\u001b[0m                                Traceback (most recent call last)",
      "Cell \u001b[0;32mIn[15], line 117\u001b[0m\n\u001b[1;32m    115\u001b[0m \u001b[38;5;66;03m# Train the LSTM model\u001b[39;00m\n\u001b[1;32m    116\u001b[0m lstm_model \u001b[38;5;241m=\u001b[39m SentimentLSTM(no_layers, vocab_size, hidden_dim, embedding_dim)\u001b[38;5;241m.\u001b[39mto(device)\n\u001b[0;32m--> 117\u001b[0m train(lstm_model, train_loader, valid_loader, epochs\u001b[38;5;241m=\u001b[39m\u001b[38;5;241m5\u001b[39m)\n",
      "Cell \u001b[0;32mIn[15], line 67\u001b[0m, in \u001b[0;36mtrain\u001b[0;34m(model, train_loader, valid_loader, epochs)\u001b[0m\n\u001b[1;32m     64\u001b[0m model\u001b[38;5;241m.\u001b[39mzero_grad()\n\u001b[1;32m     65\u001b[0m h \u001b[38;5;241m=\u001b[39m model\u001b[38;5;241m.\u001b[39minit_hidden(batch_size)\n\u001b[0;32m---> 67\u001b[0m output, h \u001b[38;5;241m=\u001b[39m model(inputs, h)  \u001b[38;5;66;03m# Forward pass\u001b[39;00m\n\u001b[1;32m     68\u001b[0m loss \u001b[38;5;241m=\u001b[39m criterion(output\u001b[38;5;241m.\u001b[39msqueeze(), labels\u001b[38;5;241m.\u001b[39mfloat())\n\u001b[1;32m     69\u001b[0m loss\u001b[38;5;241m.\u001b[39mbackward()\n",
      "\u001b[0;31mValueError\u001b[0m: too many values to unpack (expected 2)"
     ]
    }
   ],
   "source": [
    "import torch.nn as nn  # Import nn from torch\n",
    "import torch\n",
    "from torch.utils.data import TensorDataset, DataLoader\n",
    "\n",
    "# Create Tensor datasets\n",
    "train_data = TensorDataset(torch.from_numpy(x_train_pad), torch.from_numpy(y_train))\n",
    "valid_data = TensorDataset(torch.from_numpy(x_test_pad), torch.from_numpy(y_test))\n",
    "\n",
    "# Dataloaders\n",
    "batch_size = 50\n",
    "train_loader = DataLoader(train_data, shuffle=True, batch_size=batch_size)\n",
    "valid_loader = DataLoader(valid_data, shuffle=True, batch_size=batch_size)\n",
    "\n",
    "# Check if CUDA is available and set device\n",
    "device = torch.device(\"cuda\" if torch.cuda.is_available() else \"cpu\")\n",
    "print(f'Using device: {device}')\n",
    "\n",
    "# Define the RNN model\n",
    "class SentimentRNN(nn.Module):\n",
    "    def __init__(self, no_layers, vocab_size, hidden_dim, embedding_dim, output_dim=1, drop_prob=0.5):\n",
    "        super(SentimentRNN, self).__init__()\n",
    "        self.hidden_dim = hidden_dim\n",
    "        self.no_layers = no_layers\n",
    "        self.embedding = nn.Embedding(vocab_size, embedding_dim)\n",
    "        self.rnn = nn.RNN(embedding_dim, hidden_dim, no_layers, batch_first=True)\n",
    "        self.dropout = nn.Dropout(drop_prob)\n",
    "        self.fc = nn.Linear(hidden_dim, output_dim)\n",
    "        self.sig = nn.Sigmoid()\n",
    "\n",
    "    def forward(self, x, hidden):\n",
    "        x = self.embedding(x)\n",
    "        rnn_out, hidden = self.rnn(x, hidden)  \n",
    "        # Only take the output of the last time step\n",
    "        rnn_out = rnn_out[:, -1, :]  # Output for the last time step for each batch\n",
    "        out = self.dropout(rnn_out)\n",
    "        out = self.fc(out)\n",
    "        sig_out = self.sig(out)\n",
    "        return sig_out, hidden\n",
    "\n",
    "    # Add init_hidden method inside the class\n",
    "    def init_hidden(self, batch_size):\n",
    "        # Initialize hidden state (just a single tensor for RNN)\n",
    "        h0 = torch.zeros(self.no_layers, batch_size, self.hidden_dim).to(device)\n",
    "        return h0\n",
    "\n",
    "\n",
    "\n",
    "\n",
    "# Training function\n",
    "# Training loop (no need to handle hidden state as a tuple)\n",
    "def train(model, train_loader, valid_loader, epochs=5):\n",
    "    criterion = nn.BCELoss()\n",
    "    optimizer = torch.optim.Adam(model.parameters(), lr=0.001)\n",
    "\n",
    "    clip = 5  # Gradient clipping value\n",
    "\n",
    "    for epoch in range(epochs):\n",
    "        model.train()\n",
    "        total_loss = 0\n",
    "        train_acc = 0.0\n",
    "\n",
    "        for inputs, labels in train_loader:\n",
    "            inputs, labels = inputs.to(device), labels.to(device)\n",
    "            model.zero_grad()\n",
    "            h = model.init_hidden(batch_size)\n",
    "\n",
    "            output, h = model(inputs, h)  # Forward pass\n",
    "            loss = criterion(output.squeeze(), labels.float())\n",
    "            loss.backward()\n",
    "            nn.utils.clip_grad_norm_(model.parameters(), clip)\n",
    "            optimizer.step()\n",
    "            total_loss += loss.item()\n",
    "\n",
    "            pred = torch.round(output.squeeze())\n",
    "            correct = (pred == labels).float().sum()\n",
    "            train_acc += correct / labels.size(0)\n",
    "\n",
    "        val_loss, val_acc = evaluate(model, valid_loader, criterion)\n",
    "        print(f\"Epoch {epoch+1}/{epochs}, Train Loss: {total_loss/len(train_loader):.3f}, \"\n",
    "              f\"Train Accuracy: {train_acc/len(train_loader):.3f}, \"\n",
    "              f\"Val Loss: {val_loss:.3f}, Val Accuracy: {val_acc:.3f}\")\n",
    "\n",
    "\n",
    "\n",
    "\n",
    "def evaluate(model, valid_loader, criterion):\n",
    "    model.eval()\n",
    "    val_loss = 0\n",
    "    val_acc = 0.0\n",
    "\n",
    "    with torch.no_grad():\n",
    "        for inputs, labels in valid_loader:\n",
    "            inputs, labels = inputs.to(device), labels.to(device)\n",
    "            h = model.init_hidden(batch_size)\n",
    "            output, h = model(inputs, h)  # No need to handle hidden state as a tuple\n",
    "            loss = criterion(output.squeeze(), labels.float())\n",
    "            val_loss += loss.item()\n",
    "\n",
    "            pred = torch.round(output.squeeze())\n",
    "            correct = (pred == labels).float().sum()\n",
    "            val_acc += correct / labels.size(0)\n",
    "\n",
    "    return val_loss / len(valid_loader), val_acc / len(valid_loader)\n",
    "\n",
    "\n",
    "# Train the Vanilla RNN model\n",
    "vocab_size = len(vocab) + 1\n",
    "embedding_dim = 64\n",
    "hidden_dim = 256\n",
    "no_layers = 2\n",
    "\n",
    "rnn_model = SentimentRNN(no_layers, vocab_size, hidden_dim, embedding_dim).to(device)\n",
    "train(rnn_model, train_loader, valid_loader, epochs=5)\n",
    "\n",
    "# Train the LSTM model\n",
    "lstm_model = SentimentLSTM(no_layers, vocab_size, hidden_dim, embedding_dim).to(device)\n",
    "train(lstm_model, train_loader, valid_loader, epochs=5)"
   ]
  },
  {
   "cell_type": "markdown",
   "id": "af14f3a0",
   "metadata": {},
   "source": [
    "### Findings and Results:\n",
    "\n",
    "1. **TensorFlow Results:**\n",
    "   - **RNN Model**:\n",
    "     - Training Loss: Reduced from 0.6887 to 0.6791 after 5 epochs.\n",
    "     - Training Accuracy: Improved from 53.24% to 57.36%.\n",
    "     - Validation Accuracy: Achieved 61.71%.\n",
    "     - Final Test Accuracy: **61.78%**.\n",
    "     - **Conclusion**: The RNN model shows limited performance improvement and does not achieve high accuracy for sentiment classification.\n",
    "\n",
    "   - **LSTM Model**:\n",
    "     - Training Loss: Reduced from 0.6121 to 0.3300 after 5 epochs.\n",
    "     - Training Accuracy: Improved from 65.37% to 85.27%.\n",
    "     - Validation Accuracy: Achieved 82.73%.\n",
    "     - Final Test Accuracy: **82.60%**.\n",
    "     - **Conclusion**: The LSTM model significantly outperforms the RNN model, achieving a high test accuracy. The use of LSTM's ability to capture long-term dependencies in text greatly improves the model's performance over the RNN.\n",
    "\n",
    "2. **PyTorch Results:**\n",
    "   - **Vanilla RNN Model**:\n",
    "     - Training Loss: Stayed around 0.698–0.702 during the 5 epochs, with no significant decrease.\n",
    "     - Training Accuracy: Hovered around 49-50%, showing limited learning.\n",
    "     - Validation Accuracy: Remained at 50%, which suggests the model is not learning and is stuck at random guessing.\n",
    "     - **Conclusion**: The RNN in PyTorch performs poorly, likely due to limited capacity to capture complex patterns in the text, especially without sufficient training time or hyperparameter tuning.\n",
    "\n",
    "   - **LSTM Model**:\n",
    "     - **Error in Model**: The model fails to train due to an unpacking error in the forward pass when trying to handle the LSTM's hidden states. The issue arises from mishandling the LSTM outputs, preventing the model from completing its training cycle.\n",
    "\n",
    "### Summary of Output:\n",
    "\n",
    "1. **TensorFlow Results**:\n",
    "   - The LSTM model provides significantly better performance compared to the RNN model in terms of accuracy (82.60% vs. 61.78%).\n",
    "   - The RNN model struggles to improve beyond random guessing, while the LSTM model effectively captures the sentiment in the text.\n",
    "\n",
    "2. **PyTorch Results**:\n",
    "   - The PyTorch Vanilla RNN model suffers from poor training, with accuracy stuck at around 50%, indicating it is not learning effectively.\n",
    "   - The LSTM model in PyTorch faces an error due to improper handling of output values, preventing further evaluation and training. This error needs to be fixed for further analysis.\n",
    "\n",
    "### Key Takeaways:\n",
    "- **LSTM performs best**: Across both TensorFlow and PyTorch, LSTMs outperform RNNs in handling text data for sentiment analysis due to their ability to capture long-term dependencies.\n",
    "- **RNN struggles**: Both in TensorFlow and PyTorch, the RNN model shows limited effectiveness and struggles to go beyond random performance, especially with more complex tasks like sentiment classification.\n",
    "- **Error in PyTorch LSTM**: Fixing the unpacking issue in the LSTM forward pass will allow for proper training and comparison with the TensorFlow LSTM model."
   ]
  },
  {
   "cell_type": "code",
   "execution_count": null,
   "id": "9956a8e3",
   "metadata": {},
   "outputs": [],
   "source": []
  }
 ],
 "metadata": {
  "kernelspec": {
   "display_name": "Python 3 (ipykernel)",
   "language": "python",
   "name": "python3"
  },
  "language_info": {
   "codemirror_mode": {
    "name": "ipython",
    "version": 3
   },
   "file_extension": ".py",
   "mimetype": "text/x-python",
   "name": "python",
   "nbconvert_exporter": "python",
   "pygments_lexer": "ipython3",
   "version": "3.11.5"
  }
 },
 "nbformat": 4,
 "nbformat_minor": 5
}
